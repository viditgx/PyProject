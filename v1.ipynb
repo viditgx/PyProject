{
  "nbformat": 4,
  "nbformat_minor": 0,
  "metadata": {
    "colab": {
      "provenance": [],
      "authorship_tag": "ABX9TyNJimqTkIT7qgxW2TZzcXB2",
      "include_colab_link": true
    },
    "kernelspec": {
      "name": "python3",
      "display_name": "Python 3"
    },
    "language_info": {
      "name": "python"
    }
  },
  "cells": [
    {
      "cell_type": "markdown",
      "metadata": {
        "id": "view-in-github",
        "colab_type": "text"
      },
      "source": [
        "<a href=\"https://colab.research.google.com/github/viditgx/PyProject/blob/main/v1.ipynb\" target=\"_parent\"><img src=\"https://colab.research.google.com/assets/colab-badge.svg\" alt=\"Open In Colab\"/></a>"
      ]
    },
    {
      "cell_type": "code",
      "execution_count": 1,
      "metadata": {
        "colab": {
          "base_uri": "https://localhost:8080/"
        },
        "id": "3dZO6qOJJh1s",
        "outputId": "98eba1fe-ccf0-4816-edfc-0c53b8f0388f"
      },
      "outputs": [
        {
          "output_type": "execute_result",
          "data": {
            "text/plain": [
              "[11, 2, 8, 27, 15]"
            ]
          },
          "metadata": {},
          "execution_count": 1
        }
      ],
      "source": [
        "my_list = [11, 2, 8, 27, 15]\n",
        "my_list"
      ]
    },
    {
      "cell_type": "code",
      "source": [
        "my_list.reverse()"
      ],
      "metadata": {
        "id": "NSGzUSFmJkQE"
      },
      "execution_count": 2,
      "outputs": []
    },
    {
      "cell_type": "code",
      "source": [
        "my_list"
      ],
      "metadata": {
        "colab": {
          "base_uri": "https://localhost:8080/"
        },
        "id": "jD8oF4tOJoX1",
        "outputId": "ecae4625-d1fc-4042-d602-588c317f44bf"
      },
      "execution_count": 3,
      "outputs": [
        {
          "output_type": "execute_result",
          "data": {
            "text/plain": [
              "[15, 27, 8, 2, 11]"
            ]
          },
          "metadata": {},
          "execution_count": 3
        }
      ]
    },
    {
      "cell_type": "code",
      "source": [
        "def get_binary_digits(dividend):\n",
        "  binary_digits = []\n",
        "  while dividend != 0:\n",
        "    quot = dividend // 2\n",
        "    remainder = dividend % 2\n",
        "    binary_digits.append(remainder)\n",
        "    dividend = quot # The quotient becomes the new dividend.\n",
        "  binary_digits.reverse()\n",
        "  return binary_digits\n",
        "\n",
        "get_binary_digits(53)"
      ],
      "metadata": {
        "colab": {
          "base_uri": "https://localhost:8080/"
        },
        "id": "Whg6cyj6Jshm",
        "outputId": "fb5e33cd-1abe-431c-c9e3-15c34e18c6b2"
      },
      "execution_count": 4,
      "outputs": [
        {
          "output_type": "execute_result",
          "data": {
            "text/plain": [
              "[1, 1, 0, 1, 0, 1]"
            ]
          },
          "metadata": {},
          "execution_count": 4
        }
      ]
    },
    {
      "cell_type": "code",
      "source": [
        "cards = [[] for i in range(6)]\n",
        "cards"
      ],
      "metadata": {
        "colab": {
          "base_uri": "https://localhost:8080/"
        },
        "id": "FS3F6bHcJzjN",
        "outputId": "d8b06b15-7dc6-42ff-cd1e-1b5a0839ab96"
      },
      "execution_count": 5,
      "outputs": [
        {
          "output_type": "execute_result",
          "data": {
            "text/plain": [
              "[[], [], [], [], [], []]"
            ]
          },
          "metadata": {},
          "execution_count": 5
        }
      ]
    },
    {
      "cell_type": "code",
      "source": [
        "first_six_powers_of_two = [2 ** i for i in range(6)]\n",
        "\n",
        "for num in range(1, 64):\n",
        "  bin_digs = get_binary_digits(num)\n",
        "  for i in range(len(bin_digs)):\n",
        "    power_of_two = 2 ** ((len(bin_digs) - 1) - i)\n",
        "    if bin_digs[i] * power_of_two in first_six_powers_of_two:\n",
        "      cards[(len(bin_digs) - 1) - i].append(num)"
      ],
      "metadata": {
        "id": "aTB62tG0J3YR"
      },
      "execution_count": 7,
      "outputs": []
    },
    {
      "cell_type": "code",
      "source": [
        "player_input = input(\"Think of a number between 1 and 63. Type 'start' when you are ready and hit the 'Enter' key.\\n\")\n",
        "while player_input != 'start':\n",
        "  player_input = input(\"Think of a number between 1 and 63. Type 'start' when you are ready and hit the 'Enter' key.\\n\")\n",
        "\n",
        "\n",
        "num = 0\n",
        "\n",
        "valid_entries = ['yes', 'no']\n",
        "\n",
        "for i in range(len(cards)):\n",
        "  print(\"\\nDoes your number exist on Card\", i + 1,\"?\\nCard\", i + 1, \"==>\", cards[i])\n",
        "  quest = input(\"Enter either yes or no:\\n\")\n",
        "  while quest not in valid_entries:\n",
        "    print(\"Does your number exist on Card\", i + 1,\"?\\nCard\", i + 1, \"==>\", cards[i])\n",
        "    quest = input(\"Enter either yes or no:\\n\")\n",
        "\n",
        "  if quest == 'yes':\n",
        "    num = num + cards[i][0]\n",
        "\n",
        "\n",
        "print(\"\\nYou thought of the number\", num)"
      ],
      "metadata": {
        "id": "py4j30jEKL8h"
      },
      "execution_count": null,
      "outputs": []
    }
  ]
}